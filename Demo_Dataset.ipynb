{
 "cells": [
  {
   "cell_type": "markdown",
   "metadata": {},
   "source": [
    "# Import modules\n",
    "CDC data set description link [here](https://wwwn.cdc.gov/nchs/nhanes/search/datapage.aspx?Component=Questionnaire&CycleBeginYear=2015)"
   ]
  },
  {
   "cell_type": "code",
   "execution_count": 34,
   "metadata": {},
   "outputs": [],
   "source": [
    "import pdb\n",
    "import glob\n",
    "\n",
    "import numpy as np\n",
    "import pandas as pd\n",
    "import matplotlib.pyplot as plt\n",
    "from sklearn.ensemble import RandomForestClassifier, ExtraTreesClassifier, AdaBoostClassifier, AdaBoostRegressor\n",
    "from sklearn.svm import SVC\n",
    "from sklearn import svm\n",
    "from sklearn.linear_model import LogisticRegression\n",
    "from sklearn.tree import DecisionTreeClassifier\n",
    "from sklearn.feature_selection import mutual_info_classif, mutual_info_regression\n",
    "from sklearn import metrics\n",
    "from sklearn.metrics import classification_report\n",
    "from sklearn.decomposition import PCA\n",
    "from sklearn.model_selection import StratifiedKFold, GridSearchCV, train_test_split\n",
    "from sklearn.pipeline import Pipeline\n",
    "\n",
    "import nhanes as nhanes\n",
    "\n",
    "%matplotlib notebook"
   ]
  },
  {
   "cell_type": "markdown",
   "metadata": {},
   "source": [
    "## Settings"
   ]
  },
  {
   "cell_type": "code",
   "execution_count": 2,
   "metadata": {},
   "outputs": [],
   "source": [
    "DATA_PATH = 'C:/Users/allen/Documents/Git-Repos/Opportunistic/CDC/NHANES/'\n",
    "DATASET = 'cancer'"
   ]
  },
  {
   "cell_type": "markdown",
   "metadata": {},
   "source": [
    "### Note: \n",
    "The code below loads each dataset: dataset_features, dataset_targets\n",
    "\n",
    "Here, all datasets are defined explicitly (see nhanes.py).\n",
    "*Caution* Very long computation, proceed with care"
   ]
  },
  {
   "cell_type": "code",
   "execution_count": 3,
   "metadata": {
    "scrolled": true
   },
   "outputs": [
    {
     "name": "stdout",
     "output_type": "stream",
     "text": [
      "Processing: Questionnaire\\SMQRTU_I.XPT                                                                                                                                                                                                                                                                                                                                                                                                                                                                                                                                                                                                                                                                                                                                                                                                                                                                                                                                                                                                                                                                                                                                                                                                                                                                                                                                                                                                                                                                                                                                                                                                                                                                                                                                                                                                                                                                                                                                                                                                                                                                                                                                                                                                                                                                                                                                                                                                                                                                                                                                                                                                                                                                                                                                                                                                                                                                                                                                                                                                                                                                                                                                                                                                                                                                                                                                                                                                                                                                                                                                                                                                                                                                                                                                                                                                                                                                                                                                                                                                                                                                                                                                                                                                                                                                                                                                                                                                                                                                                                                                                                                                                                                                                                                                                                                                                                                                                                                                                                                                                                                                                                                                                                                                                                                                                                                                                                                                                                                                                                                                                                                                                                                                                                                                                                                                                                                                                                                                                                                                                                                                                                                                                                                                                                                                                                                                                                                                                                                                                                                                                                                                                                                                                                                                                                                                                                                                                                                                                                                                                                                                                                                                                                                                                                                                                                                                                                                                                                                                                                                                                                                                                                                                                                                                                                                                                                                                                                                                                                                                                                                                                                                                                                                                                                                                                                                                                                                                                                                                                              "
     ]
    },
    {
     "name": "stdout",
     "output_type": "stream",
     "text": [
      "Processing: Examination\\CSX_H.XPT                                                                                                                                                                                                                                                                                                                                                                                                                                                                                                                                                                                                                                                                                                                                                                                                                                                                                                                                                                                                                                                                                                                                                                                                                                                                                                                                                                                                                                                                                                                                                                                                                                                                                                                                                                                                                                                                                                                                                                                                                                                                                                                                                                                                                                                                                                                                                                                                                                                                                                                                                                                                                                                                                                                                                                                                                                                                                                                                                                                                                                                                                                                                                                                                                                                                                                                                                                                                                                                                                                                                                                                                                                                                                                                                                                                                                                                                                                                                                                                                                                                                                                                                                                                                                                                                                                                                                                                                                                                                                                                                                                                                                                                                                                                                                                                                                                                                                                                                                                                                                                                                                                                                                                                                                                                                                                                                                                                                                                                                                                                                                                                                                                                                                                                                                                                                                                                                                                                                                                                                                                                                                                                                                                                                                                                                                                                                                                                                                                                                                                                                                                                                                                                                                                                                                                                                                                                                                                                                                                                                                                                                                                                                                                                                                                                                                                                                                                                                                                                                                                                                                                                                                                                                                                                                                                                                                                                                                                                                                                                                                                                                                                                                                                                                                                                                                                                                                                                                                                                                                                     "
     ]
    },
    {
     "name": "stdout",
     "output_type": "stream",
     "text": [
      "Processing: Laboratory\\UC.XPTXPT                                                                                                                                                                                                                                                                                                                                                                                                                                                                                                                                                                                                                                                                                                                                                                                                                                                                                                                                                                                                                                                                                                                                                                                                                                                                                                                                                                                                                                                                                                                                                                                                                                                                                                                                                                                                                                                                                                                                                                                                                                                                                                                                                                                                                                                                                                                                                                                                                                                                                                                                                                                                                                                                                                                                                                                                                                                                                                                                                                                                                                                                                                                                                                                                                                                                                                                                                                                                                                                                                                                                                                                                                                                                                                                                                                                                                                                                                                                                                                                                                                                                                                                                                                                                                                                                                                                                                                                                                                                                                                                                                                                                                                                                                                                                                                                                                                                                                                                                                                                                                                                                                                                                                                                                                                                                                                                                                                                                                                                                                                                                                                                                                                                                                                                                                                                                                                                                                                                                                                                                                                                                                                                                                                                                                                                                                                                                                                                                                                                                                                                                                                                                                                                                                                                                                                                                                                                                                                                                                                                                                                                                                                                                                                                                                                                                                                                                                                                                                                                                                                                                                                                                                                                                                                                                                                                                                                                                                                                                                                                                                                                                                                                                                                                                                                                                                                                                                                                                                                                                                                 "
     ]
    },
    {
     "name": "stdout",
     "output_type": "stream",
     "text": [
      "Processing: Questionnaire\\WHQ_H.XPT                                                                                                                                                                                                                                                                                                                                                                                                                                                                                                                                                                                                                                                                                                                                                                                                                                                                                                                                                                                                                                                                                                                                                                                                                                                                                                                                                                                                                                                                                                                                                                                                                                                                                                                                                                                                                                                                                                                                                                                                                                                                                                                                                                                                                                                                                                                                                                                                                                                                                                                                                                                                                                                                                                                                                                                                                                                                                                                                                                                                                                                                                                                                                                                                                                                                                                                                                                                                                                                                                                                                                                                                                                                                                                                                                                                                                                                                                                                                                                                                                                                                                                                                                                                                                                                                                                                                                                                                                                                                                                                                                                                "
     ]
    }
   ],
   "source": [
    "ds = nhanes.Dataset(DATA_PATH)\n",
    "ds.load_cancer()\n",
    "n_fe = ds.features.shape[1]\n",
    "n_classes = 2"
   ]
  },
  {
   "cell_type": "markdown",
   "metadata": {},
   "source": [
    "Extract the features and targets."
   ]
  },
  {
   "cell_type": "code",
   "execution_count": 4,
   "metadata": {},
   "outputs": [
    {
     "name": "stdout",
     "output_type": "stream",
     "text": [
      "(98908, 1)\n"
     ]
    }
   ],
   "source": [
    "features = ds.features.values\n",
    "targets = ds.targets.values\n",
    "\n",
    "indx = np.argwhere(targets != 3)\n",
    "dataset_features = features[indx.flatten()]\n",
    "dataset_targets = targets[indx.flatten()]\n",
    "\n",
    "dataset_features = pd.DataFrame(dataset_features, columns=ds.features.columns)\n",
    "dataset_targets = pd.DataFrame(dataset_targets, columns=ds.targets.columns, dtype='float64')\n",
    "print(dataset_targets.shape)\n",
    "# Pre-fix\n",
    "# dataset_features = ds.features\n",
    "# dataset_targets = ds.targets"
   ]
  },
  {
   "cell_type": "markdown",
   "metadata": {},
   "source": [
    "## Preprocessing of Data"
   ]
  },
  {
   "cell_type": "markdown",
   "metadata": {},
   "source": [
    "### Calculate feature importance"
   ]
  },
  {
   "cell_type": "code",
   "execution_count": 5,
   "metadata": {},
   "outputs": [
    {
     "name": "stdout",
     "output_type": "stream",
     "text": [
      "0% [ .....  ] 100%\n",
      "Done\n"
     ]
    }
   ],
   "source": [
    "dataset_features_sel = dataset_features.copy()\n",
    "importances = []\n",
    "num_trees = 5\n",
    "\n",
    "for i in range(num_trees):\n",
    "    clf = ExtraTreesClassifier(n_estimators=50)\n",
    "    clf = clf.fit(dataset_features_sel.values, dataset_targets.values.ravel())\n",
    "    importances.append(clf.feature_importances_)\n",
    "    print('0% [',(i+1)*'.',(num_trees-i-1)*'-','] 100%', end='\\r')\n",
    "\n",
    "print('\\nDone')"
   ]
  },
  {
   "cell_type": "markdown",
   "metadata": {},
   "source": [
    "#### Drop Threshhold helper function"
   ]
  },
  {
   "cell_type": "code",
   "execution_count": 6,
   "metadata": {},
   "outputs": [],
   "source": [
    "def drop_threshold(threshold, df_data, df_threshold):\n",
    "    '''\n",
    "    Sort a 1xn pandas dataframe df_data, return only \n",
    "    up to sum of threshold value indicies in df_threshhold\n",
    "    if threshold is <= 1. If threshold >= 1, return the top \n",
    "    threshold number of columns.\n",
    "    '''\n",
    "    mi = df_threshold # mutual information dataframe\n",
    "    df = df_data # data containing dataframe\n",
    "    to_keep = []\n",
    "    mi = mi.sort_values(by=0, axis=1, ascending=False) #sorts the values descending\n",
    "    # print(mi)\n",
    "    var_counter = 0\n",
    "    col_counter = 0\n",
    "    if(threshold <=1):\n",
    "        for col in mi:\n",
    "            var_counter += mi[col].iloc[0]\n",
    "            col_counter += 1\n",
    "            to_keep.append(col)\n",
    "            if(var_counter >= threshold and threshold <= 1):\n",
    "                break\n",
    "            else if(col_counter >= threshold and threshold > 1):\n",
    "                break\n",
    "        if(len(to_keep) > 0):\n",
    "            return pd.DataFrame(df[to_keep].copy(), dtype='float64')\n",
    "        else:\n",
    "            raise NotImplementedError"
   ]
  },
  {
   "cell_type": "markdown",
   "metadata": {},
   "source": [
    "#### Drop low importance features"
   ]
  },
  {
   "cell_type": "code",
   "execution_count": 7,
   "metadata": {},
   "outputs": [
    {
     "name": "stdout",
     "output_type": "stream",
     "text": [
      "(98908, 84)\n"
     ]
    },
    {
     "data": {
      "image/png": "[encoded data removed]",
      "text/plain": [
       "<Figure size 432x288 with 1 Axes>"
      ]
     },
     "metadata": {
      "needs_background": "light"
     },
     "output_type": "display_data"
    }
   ],
   "source": [
    "importances_mean = np.array(importances)\n",
    "importances_mean = np.mean(importances_mean, axis=0)\n",
    "importances_mean = importances_mean.reshape((1, len(importances_mean)))\n",
    "importances_mean = pd.DataFrame(importances_mean, columns=ds.features.columns, dtype='float64')\n",
    "importances_mean = importances_mean.sort_values(by=0, axis=1, ascending=False)\n",
    "\n",
    "gfs = 29 # number features to show \n",
    "df_importances = drop_threshold(0.90, dataset_features_sel, importances_mean)\n",
    "print(df_importances.shape)\n",
    "\n",
    "# Visualize Importance:\n",
    "idx = [i for i in range(len(importances_mean.columns))]\n",
    "cols = [i for i in importances_mean.columns]\n",
    "# print(importances_mean.values[0][0:gfs])\n",
    "plt.bar(idx[0:gfs], importances_mean.values[0][0:gfs])\n",
    "plt.xticks(idx[0:gfs], importances_mean.columns[0:gfs], rotation='vertical')\n",
    "plt.xlabel('Features')\n",
    "plt.ylabel('Importance')\n",
    "plt.show()\n"
   ]
  },
  {
   "cell_type": "markdown",
   "metadata": {},
   "source": [
    "#### Seperate one-hot encoded, discrete, and continuous features"
   ]
  },
  {
   "cell_type": "code",
   "execution_count": 8,
   "metadata": {},
   "outputs": [
    {
     "name": "stdout",
     "output_type": "stream",
     "text": [
      "Original shape: (98908, 84)\n",
      "Continuous features shape: (98908, 43)\n",
      "Categorical features shape: (98908, 41) \n"
     ]
    }
   ],
   "source": [
    "# onehot encoded\n",
    "dataset_features_onehot = df_importances.filter(regex=(\".*#.*\"))\n",
    "# Continuous \n",
    "dataset_features_cont = df_importances.drop(columns=df_importances.filter(regex=(\".*#.*\")))\n",
    "\n",
    "\n",
    "print(\"Original shape: %s\" %(df_importances.shape,))\n",
    "print(\"Continuous features shape: %s\" %(dataset_features_cont.shape,))\n",
    "print(\"Categorical features shape: %s \"%(dataset_features_onehot.shape,))"
   ]
  },
  {
   "cell_type": "markdown",
   "metadata": {},
   "source": [
    "#### Calculate PCA to drop features"
   ]
  },
  {
   "cell_type": "code",
   "execution_count": 9,
   "metadata": {
    "scrolled": true
   },
   "outputs": [
    {
     "data": {
      "image/png": "[encoded data removed]",
      "text/plain": [
       "<Figure size 432x288 with 2 Axes>"
      ]
     },
     "metadata": {
      "needs_background": "light"
     },
     "output_type": "display_data"
    }
   ],
   "source": [
    "# dfs = [dataset_features_cont.copy(), dataset_features_disc.copy(), dataset_features_onehot.copy()]\n",
    "dfs_out = [dataset_features_cont.copy(), dataset_features_onehot.copy()]\n",
    "pca_dfs = []\n",
    "gfs = 15 # Number of features to graph\n",
    "gfs -= 1\n",
    "i = 0\n",
    "for df in dfs_out:    \n",
    "#     print(df.shape)\n",
    "    pca = PCA() # no args, so keep all columns, n_components=2\n",
    "    pca.fit(df)\n",
    "    var_ratio = pca.explained_variance_ratio_\n",
    "    var_ratio = var_ratio.reshape((1, len(var_ratio)))\n",
    "    pca_dfs.append(pd.DataFrame(data=var_ratio, columns=df.columns))\n",
    "    # Visualize PCA:\n",
    "    idx = [i for i in range(len(df.columns))]\n",
    "    cols = [i for i in df.columns]\n",
    "    plt.subplot(len(dfs_out),1,i+1)\n",
    "    plt.subplots_adjust(hspace = 1, top=1, bottom=.3)\n",
    "    plt.bar(idx[0:gfs], pca.explained_variance_ratio_[0:gfs])\n",
    "    plt.xticks(idx[0:gfs], df.columns[0:gfs], rotation='vertical')\n",
    "    plt.xlabel('Features')\n",
    "    plt.ylabel('Variance')\n",
    "    i+=1\n",
    "plt.show()\n",
    "\n",
    "# print(pca_dfs.shape)\n"
   ]
  },
  {
   "cell_type": "markdown",
   "metadata": {},
   "source": [
    "#### Remove columns that account for too little of the variance"
   ]
  },
  {
   "cell_type": "code",
   "execution_count": 17,
   "metadata": {
    "scrolled": true
   },
   "outputs": [
    {
     "name": "stdout",
     "output_type": "stream",
     "text": [
      "(98908, 23)\n",
      "(98908, 12)\n",
      "(98908, 35)\n",
      "\n",
      "Final list is 35 features\n",
      "Index(['RIDAGEYR', 'INDFMPIR', 'BMXLEG', 'BMXHT', 'BMXWT', 'BMXWAIST', 'LBXTC',\n",
      "       'BMXBMI', 'BPXPLS', 'LBXBPB', 'LBXBCD', 'ALQ120Q', 'SMD030', 'LBXTHG',\n",
      "       'ALQ130', 'DR2TSUGR', 'DR2TKCAL', 'DR1TSUGR', 'DR1TKCAL', 'ALQ101',\n",
      "       'INDFMMPI', 'SLD010H', 'DR2TALCO', 'DMDEDUC2#3.0', 'DBQ700#4.0',\n",
      "       'DMDEDUC2#4.0', 'RIAGENDR#1.0', 'SMQ020#2.0', 'DMDEDUC2#5.0',\n",
      "       'RIAGENDR#2.0', 'RIDRETH3#3.0', 'SLQ050#2.0', 'SMQ020#1.0',\n",
      "       'MCQ080#2.0', 'DMDEDUC2#2.0'],\n",
      "      dtype='object')\n"
     ]
    }
   ],
   "source": [
    "pca_dfs_out = []\n",
    "\n",
    "for i in range(len(dfs_out)):\n",
    "    pca_dfs_out.append(drop_threshold(.8, dfs_out[i] ,pca_dfs[i]))\n",
    "\n",
    "for df in pca_dfs_out:\n",
    "    print(df.shape)\n",
    "\n",
    "df_final = pd.concat(pca_dfs_out, axis=1)\n",
    "print(df_final.shape)\n",
    "\n",
    "print('\\nFinal list is %s features' %(df_final.shape[1]))\n",
    "print(df_final.columns)\n",
    "# for i in df_final.columns:\n",
    "#     print(i)"
   ]
  },
  {
   "cell_type": "markdown",
   "metadata": {},
   "source": [
    "## Train/Test Separation"
   ]
  },
  {
   "cell_type": "code",
   "execution_count": 19,
   "metadata": {},
   "outputs": [
    {
     "name": "stdout",
     "output_type": "stream",
     "text": [
      "dataset_features Shape: (98908, 35), dataset_targets Shape: (98908,)\n"
     ]
    }
   ],
   "source": [
    "perm = np.random.permutation(dataset_targets.shape[0])\n",
    "dataset_targets_vals = np.ravel(dataset_targets.values) # unroll the column to the correct vector shape\n",
    "\n",
    "dataset_features = df_final.values[perm]\n",
    "dataset_targets = dataset_targets_vals[perm]\n",
    "\n",
    "print(\"dataset_features Shape: %s, dataset_targets Shape: %s\" % (dataset_features.shape, dataset_targets.shape))\n",
    "\n",
    "def get_batch(n_size, phase):\n",
    "    # select indices\n",
    "    n_samples = dataset_features.shape[0]\n",
    "    n_classes = int(dataset_targets.max() + 1)\n",
    "    if phase == 'test':\n",
    "        inds_sel = np.arange(0, int(n_samples*0.15), 1)\n",
    "    elif phase == 'validation':\n",
    "        n_samples = dataset_features.shape[0]\n",
    "        inds_sel = np.arange(int(n_samples*0.15), int(n_samples*0.30), 1)\n",
    "    elif phase == 'train':\n",
    "        n_samples = dataset_features.shape[0]\n",
    "        inds_sel = np.arange(int(n_samples*0.30), n_samples, 1)\n",
    "    else:\n",
    "        raise NotImplementedError\n",
    "    inds_sel = np.random.permutation(inds_sel)\n",
    "    batch_inds = []\n",
    "    for cl in range(n_classes):\n",
    "        inds_cl = inds_sel[dataset_targets[inds_sel] == cl]\n",
    "        batch_inds.extend(inds_cl[:n_size//n_classes])\n",
    "    batch_inds = np.random.permutation(batch_inds)\n",
    "    \n",
    "    return dataset_features[batch_inds], dataset_targets[batch_inds]"
   ]
  },
  {
   "cell_type": "markdown",
   "metadata": {},
   "source": [
    "## Validation\n",
    "First run for all options"
   ]
  },
  {
   "cell_type": "code",
   "execution_count": 24,
   "metadata": {},
   "outputs": [
    {
     "name": "stdout",
     "output_type": "stream",
     "text": [
      "Fitting 5 folds for each of 40 candidates, totalling 200 fits\n"
     ]
    },
    {
     "name": "stderr",
     "output_type": "stream",
     "text": [
      "[Parallel(n_jobs=-1)]: Using backend LokyBackend with 4 concurrent workers.\n",
      "[Parallel(n_jobs=-1)]: Done  76 tasks      | elapsed:    1.8s\n",
      "[Parallel(n_jobs=-1)]: Done 200 out of 200 | elapsed:   25.9s finished\n"
     ]
    },
    {
     "name": "stdout",
     "output_type": "stream",
     "text": [
      "{'classifier': LogisticRegression(C=0.23357214690901212, class_weight=None, dual=False,\n",
      "          fit_intercept=True, intercept_scaling=1, max_iter=100,\n",
      "          multi_class='warn', n_jobs=None, penalty='l1', random_state=None,\n",
      "          solver='liblinear', tol=0.0001, verbose=0, warm_start=False), 'classifier__C': 0.23357214690901212, 'classifier__penalty': 'l1', 'classifier__solver': 'liblinear'}\n"
     ]
    }
   ],
   "source": [
    "# Create first pipeline for base without reducing features.\n",
    "did_search = True\n",
    "if not did_search:\n",
    "    pipe = Pipeline([('classifier' , RandomForestClassifier())])\n",
    "\n",
    "    # Create param grid.\n",
    "\n",
    "    param_grid = [\n",
    "        {'classifier' : [LogisticRegression()],\n",
    "         'classifier__penalty' : ['l1', 'l2'],\n",
    "         'classifier__solver' : ['liblinear'],\n",
    "        'classifier__C' : np.logspace(-4, 4, 20)} #,\n",
    "        {'classifier' : [RandomForestClassifier()],\n",
    "        'classifier__n_estimators' : list(range(10,101,10)),\n",
    "        'classifier__max_features' : list(range(2,32,5))},\n",
    "        {'classifier' : [SVC()],\n",
    "         'classifier__kernel':('linear', 'rbf'),\n",
    "         'classifier__gamma' : ['auto', 'scale'],\n",
    "         'classifier__C':[0.001, 0.01, 0.1, 1, 10]},\n",
    "        {'classifier' : [AdaBoostClassifier()],\n",
    "         'classifier__base_estimator':[LogisticRegression(), DecisionTreeClassifier()]}\n",
    "    ]\n",
    "\n",
    "    # Create grid search object\n",
    "\n",
    "    clf_all = GridSearchCV(pipe, param_grid = param_grid, cv = 5, verbose=True, n_jobs=-1)\n",
    "    # Fit on data\n",
    "    features_val, targets_val = get_batch(n_size=10000, phase='validation')\n",
    "    best_clf_all = clf_all.fit(features_val, targets_val)\n",
    "    print(clf_all.best_params_)"
   ]
  },
  {
   "cell_type": "markdown",
   "metadata": {},
   "source": [
    "*The Results:*\n",
    "{'classifier': RandomForestClassifier(bootstrap=True, class_weight=None, criterion='gini',\n",
    "            max_depth=None, max_features=22, max_leaf_nodes=None,\n",
    "            min_impurity_decrease=0.0, min_impurity_split=None,\n",
    "            min_samples_leaf=1, min_samples_split=2,\n",
    "            min_weight_fraction_leaf=0.0, n_estimators=20, n_jobs=None,\n",
    "            oob_score=False, random_state=None, verbose=0,\n",
    "            warm_start=False), 'classifier__max_features': 22, 'classifier__n_estimators': 20}\n",
    "\n",
    "**Then run for LR and then Adaboost**"
   ]
  },
  {
   "cell_type": "code",
   "execution_count": 45,
   "metadata": {},
   "outputs": [
    {
     "name": "stdout",
     "output_type": "stream",
     "text": [
      "Fitting 5 folds for each of 40 candidates, totalling 200 fits\n"
     ]
    },
    {
     "name": "stderr",
     "output_type": "stream",
     "text": [
      "[Parallel(n_jobs=-1)]: Using backend LokyBackend with 4 concurrent workers.\n",
      "[Parallel(n_jobs=-1)]: Done 106 tasks      | elapsed:    5.8s\n"
     ]
    },
    {
     "name": "stdout",
     "output_type": "stream",
     "text": [
      "{'C': 0.08858667904100823, 'penalty': 'l1', 'solver': 'liblinear'}\n"
     ]
    },
    {
     "name": "stderr",
     "output_type": "stream",
     "text": [
      "[Parallel(n_jobs=-1)]: Done 200 out of 200 | elapsed:   16.9s finished\n"
     ]
    }
   ],
   "source": [
    "did_search = False\n",
    "best_clf_lr, clf_lr = None\n",
    "if not did_search:\n",
    "\n",
    "    # Create param grid.\n",
    "\n",
    "    param_grid = [\n",
    "        {'penalty' : ['l1', 'l2'],\n",
    "         'solver' : ['liblinear'],\n",
    "         'C' : np.logspace(-4, 4, 20)}\n",
    "    ]\n",
    "\n",
    "    # Create grid search object\n",
    "\n",
    "    clf_lr = GridSearchCV(LogisticRegression(), param_grid = param_grid, cv = 5, verbose=True, n_jobs=-1)\n",
    "    # Fit on data\n",
    "    features_val, targets_val = get_batch(n_size=10000, phase='validation')\n",
    "    best_clf_lr = clf_lr.fit(features_val, targets_val)\n",
    "    print(clf_lr.best_params_) # {'C': 0.08858667904100823, 'penalty': 'l1', 'solver': 'liblinear'}"
   ]
  },
  {
   "cell_type": "code",
   "execution_count": 46,
   "metadata": {
    "scrolled": false
   },
   "outputs": [
    {
     "name": "stdout",
     "output_type": "stream",
     "text": [
      "Fitting 5 folds for each of 60 candidates, totalling 300 fits\n"
     ]
    },
    {
     "name": "stderr",
     "output_type": "stream",
     "text": [
      "[Parallel(n_jobs=-1)]: Using backend LokyBackend with 4 concurrent workers.\n",
      "[Parallel(n_jobs=-1)]: Done  42 tasks      | elapsed:    4.9s\n",
      "[Parallel(n_jobs=-1)]: Done 192 tasks      | elapsed:  1.3min\n",
      "[Parallel(n_jobs=-1)]: Done 300 out of 300 | elapsed:  2.8min finished\n"
     ]
    },
    {
     "name": "stdout",
     "output_type": "stream",
     "text": [
      "{'base_estimator': LogisticRegression(C=0.08858667904100823, class_weight=None, dual=False,\n",
      "          fit_intercept=True, intercept_scaling=1, max_iter=100,\n",
      "          multi_class='warn', n_jobs=None, penalty='l1', random_state=None,\n",
      "          solver='liblinear', tol=0.0001, verbose=0, warm_start=False), 'loss': 'linear', 'n_estimators': 40}\n"
     ]
    }
   ],
   "source": [
    "did_search = False\n",
    "best_clf, clf = None\n",
    "if not did_search:\n",
    "   # Create param grid.\n",
    "\n",
    "    param_grid = [\n",
    "        {'base_estimator':[clf_lr.best_estimator_, DecisionTreeClassifier()],\n",
    "        'n_estimators' : list(range(10,101,10)),\n",
    "        'loss' : ['linear', 'square', 'exponential']}\n",
    "    ]\n",
    "\n",
    "    # Create grid search object\n",
    "\n",
    "    clf = GridSearchCV(AdaBoostRegressor(), param_grid = param_grid, cv = 5, verbose=True, n_jobs=-1)\n",
    "    # Fit on data\n",
    "    features_val, targets_val = get_batch(n_size=10000, phase='validation')\n",
    "    best_clf = clf.fit(features_val, targets_val)\n",
    "    print(clf.best_params_)"
   ]
  },
  {
   "cell_type": "markdown",
   "metadata": {},
   "source": [
    "## Classification"
   ]
  },
  {
   "cell_type": "code",
   "execution_count": 65,
   "metadata": {},
   "outputs": [
    {
     "name": "stdout",
     "output_type": "stream",
     "text": [
      "accu_tst_ADB 0.839\n",
      "              precision    recall  f1-score   support\n",
      "\n",
      "         0.0       0.81      0.89      0.85       500\n",
      "         1.0       0.88      0.79      0.83       500\n",
      "\n",
      "   micro avg       0.84      0.84      0.84      1000\n",
      "   macro avg       0.84      0.84      0.84      1000\n",
      "weighted avg       0.84      0.84      0.84      1000\n",
      "\n"
     ]
    }
   ],
   "source": [
    "# AdaboostRegressor\n",
    "features_trn, targets_trn = get_batch(n_size=5000, phase='train')\n",
    "features_tst, targets_tst = get_batch(n_size=1000, phase='test')\n",
    "clf_adb = None\n",
    "# if(clf is None):\n",
    "base = LogisticRegression(C=0.08858667904100823, class_weight=None, dual=False,\n",
    "          fit_intercept=True, intercept_scaling=1, max_iter=100,\n",
    "          multi_class='warn', n_jobs=None, penalty='l1', random_state=None,\n",
    "          solver='liblinear', tol=0.0001, verbose=0, warm_start=False)\n",
    "clf_adb = AdaBoostRegressor(base_estimator=base, n_estimators=40, loss='linear')\n",
    "# else:\n",
    "#     clf_adb = clf.best_estimator_\n",
    "    \n",
    "base.fit(features_trn, targets_trn)\n",
    "preds_tst = base.predict(features_tst)\n",
    "accu = np.mean(preds_tst==targets_tst)\n",
    "print('accu_tst_ADB', accu)\n",
    "print(classification_report(targets_tst, preds_tst))"
   ]
  },
  {
   "cell_type": "code",
   "execution_count": 26,
   "metadata": {},
   "outputs": [
    {
     "name": "stdout",
     "output_type": "stream",
     "text": [
      "0% [ ..........  ] 100%\n",
      "Done\n"
     ]
    }
   ],
   "source": [
    "trials = 10\n",
    "accu_tst_RFC = []\n",
    "accu_tst_SVC = []\n",
    "accu_tst_LR = []\n",
    "\n",
    "for i in range(trials):\n",
    "    features_trn, targets_trn = get_batch(n_size=5000, phase='train')\n",
    "    features_tst, targets_tst = get_batch(n_size=1000, phase='test')\n",
    "\n",
    "    clf = RandomForestClassifier(bootstrap=True, class_weight=None, criterion='gini',\n",
    "            max_depth=None, max_features=22, max_leaf_nodes=None,\n",
    "            min_impurity_decrease=0.0, min_impurity_split=None,\n",
    "            min_samples_leaf=1, min_samples_split=2,\n",
    "            min_weight_fraction_leaf=0.0, n_estimators=20, n_jobs=None,\n",
    "            oob_score=False, random_state=None, verbose=0,\n",
    "            warm_start=False)\n",
    "    clf.fit(features_trn, targets_trn)\n",
    "    preds_tst = clf.predict(features_tst)\n",
    "    accu = np.mean(preds_tst==targets_tst)\n",
    "    # print('accu_tst_RFC', accu)\n",
    "    accu_tst_RFC.append(accu)\n",
    "\n",
    "    clf = SVC(gamma='auto')\n",
    "    clf.fit(features_trn, targets_trn)\n",
    "    preds_tst = clf.predict(features_tst)\n",
    "    accu = np.mean(preds_tst==targets_tst)\n",
    "    # print('accu_tst_SVC', accu)\n",
    "    accu_tst_SVC.append(accu)\n",
    "\n",
    "#     clf = LogisticRegression(solver='lbfgs', max_iter=200, multi_class='auto')\n",
    "    clf = LogisticRegression(C=0.23357214690901212, class_weight=None, dual=False,\n",
    "          fit_intercept=True, intercept_scaling=1, max_iter=100,\n",
    "          multi_class='warn', n_jobs=None, penalty='l1', random_state=None,\n",
    "          solver='liblinear', tol=0.0001, verbose=0, warm_start=False)\n",
    "    clf.fit(features_trn, targets_trn)\n",
    "    preds_tst = clf.predict(features_tst)\n",
    "    accu = np.mean(preds_tst==targets_tst)\n",
    "    # print('accu_tst_LR', accu)\n",
    "    accu_tst_LR.append(accu)\n",
    "    print('0% [',(i+1)*'.',(trials-i-1)*'-','] 100%', end='\\r')\n",
    "    \n",
    "accu_tst_RFC = np.array(accu_tst_RFC)\n",
    "accu_tst_SVC = np.array(accu_tst_SVC)\n",
    "accu_tst_LR = np.array(accu_tst_LR)\n",
    "\n",
    "print(\"\\nDone\")"
   ]
  },
  {
   "cell_type": "code",
   "execution_count": 27,
   "metadata": {
    "scrolled": true
   },
   "outputs": [
    {
     "name": "stdout",
     "output_type": "stream",
     "text": [
      "              precision    recall  f1-score   support\n",
      "\n",
      "         0.0       0.79      0.87      0.83       500\n",
      "         1.0       0.86      0.77      0.81       500\n",
      "\n",
      "   micro avg       0.82      0.82      0.82      1000\n",
      "   macro avg       0.83      0.82      0.82      1000\n",
      "weighted avg       0.83      0.82      0.82      1000\n",
      "\n",
      "\n",
      "Average accuracies after 10 random trials:\n",
      "accu_tst_RFC 0.822, accu_tst_SVC 0.826, accu_tst_LR 0.836\n",
      "\n",
      "Max accuracies after 10 random trials:\n",
      "accu_tst_RFC 0.841, accu_tst_SVC 0.834, accu_tst_LR 0.851\n"
     ]
    }
   ],
   "source": [
    "print(classification_report(targets_tst, preds_tst))\n",
    "\n",
    "print('\\nAverage accuracies after %s random trials:' %(trials))\n",
    "print('accu_tst_RFC %.3f, accu_tst_SVC %.3f, accu_tst_LR %.3f'\n",
    "      % (np.mean(accu_tst_RFC), np.mean(accu_tst_SVC), np.mean(accu_tst_LR)))\n",
    "\n",
    "print('\\nMax accuracies after %s random trials:' %(trials))\n",
    "print('accu_tst_RFC %.3f, accu_tst_SVC %.3f, accu_tst_LR %.3f'\n",
    "      % (np.max(accu_tst_RFC), np.max(accu_tst_SVC), np.max(accu_tst_LR)))"
   ]
  },
  {
   "cell_type": "markdown",
   "metadata": {},
   "source": [
    "### Accuracies from baseline: \n",
    "#### Cancer (ds.load_cancer()):\n",
    "* accu_tst_RFC 0.758\n",
    "* accu_tst_SVC 0.759\n",
    "* accu_tst_LR 0.768"
   ]
  },
  {
   "cell_type": "code",
   "execution_count": null,
   "metadata": {},
   "outputs": [],
   "source": [
    "# Adaboost\n",
    "features_trn, targets_trn = get_batch(n_size=5000, phase='train')\n",
    "features_tst, targets_tst = get_batch(n_size=1000, phase='test')\n",
    "clf = AdaBoostClassifier(n_estimators=100)\n",
    "clf.fit(features_trn, targets_trn)\n",
    "preds_tst = clf.predict(features_tst)\n",
    "accu = np.mean(preds_tst==targets_tst)\n",
    "print('accu_tst_ADB', accu)"
   ]
  },
  {
   "cell_type": "markdown",
   "metadata": {},
   "source": [
    "### Calculate mutual information\n",
    "*Caution* Very long computation, proceed with care\n",
    "Note: disused because of enmormous memory requirements"
   ]
  },
  {
   "cell_type": "code",
   "execution_count": null,
   "metadata": {},
   "outputs": [],
   "source": [
    "# dataset_features_sel_vals = dataset_features_sel.values\n",
    "# dataset_targets_vals = np.ravel(dataset_targets.values) # unroll the column to the correct vector shape\n",
    "# # dfs = [dataset_features_cont.copy(), dataset_features_disc.copy(), dataset_features_onehot.copy()]\n",
    "# # retrieve values from dfs_out for subsequent steps if this comes after PCA\n",
    "# # dataset_features_cont = dfs_out[0]\n",
    "# # dataset_features_disc = dfs_out[1]\n",
    "# # dataset_features_onehot = dfs_out[2]\n",
    "\n",
    "# print('0% [---] 100%', end='\\r')\n",
    "# mutual_info_cont = mutual_info_regression(dataset_features_cont.values, dataset_targets_vals)\n",
    "# print('0% [+--] 100%', end='\\r')\n",
    "# # mutual_info_disc = mutual_info_regression(dataset_features_disc.values, dataset_targets_vals)\n",
    "# # print('0% [++-] 100%', end='\\r')\n",
    "# mutual_info_onehot = mutual_info_classif(dataset_features_onehot.values, dataset_targets_vals)\n",
    "# print('0% [+++] 100%', end='\\r')"
   ]
  },
  {
   "cell_type": "markdown",
   "metadata": {},
   "source": [
    "### Convert mutual info into dataframes and inspect"
   ]
  },
  {
   "cell_type": "code",
   "execution_count": null,
   "metadata": {},
   "outputs": [],
   "source": [
    "# if(mutual_info_cont.shape[0] != 1): # we only need to run this portion of the block once\n",
    "#     mutual_info_cont = mutual_info_cont.reshape((1, len(mutual_info_cont)))\n",
    "#     mutual_info_disc = mutual_info_disc.reshape((1, len(mutual_info_disc))) \n",
    "#     mutual_info_onehot = mutual_info_onehot.reshape((1, len(mutual_info_onehot))) \n",
    "\n",
    "\n",
    "# mutual_info_cont_df = pd.DataFrame(data=mutual_info_cont, columns=dataset_features_cont.columns)\n",
    "# mutual_info_disc_df = pd.DataFrame(data=mutual_info_disc, columns=dataset_features_disc.columns)\n",
    "# mutual_info_onehot_df = pd.DataFrame(data=mutual_info_onehot, columns=dataset_features_onehot.columns)"
   ]
  },
  {
   "cell_type": "markdown",
   "metadata": {},
   "source": [
    "### Dropping features with low mutual information\n",
    "    __Conditioned on target variable__"
   ]
  },
  {
   "cell_type": "code",
   "execution_count": null,
   "metadata": {},
   "outputs": [],
   "source": [
    "# mi_dfs = [mutual_info_cont_df, mutual_info_disc_df, mutual_info_onehot_df]\n",
    "# dfs = [dataset_features_cont, dataset_features_disc, dataset_features_onehot]\n",
    "# dfs_out = []\n",
    "\n",
    "# for i in range(len(dfs)):\n",
    "#     mi = mi_dfs[i] # mutual information dataframe\n",
    "#     df = dfs[i] # data containing dataframe\n",
    "#     to_drop = []\n",
    "#     mean = 0.25*mi.mean(axis=1)\n",
    "    \n",
    "#     # mi = mi.sort_values(by =0, axis=1) #sorts the values ascending\n",
    "#     # print(mi)\n",
    "#     for col in mi:\n",
    "#         if(mi[col].iloc[0] < mean).all():\n",
    "#             to_drop.append(col)\n",
    "#     if(len(to_drop) > 0):\n",
    "#         dfs_out.append(pd.DataFrame(df.drop(columns=to_drop)))\n",
    "    \n",
    "# dfs_out = pd.concat(dfs_out, axis=1)\n",
    "# # Retained columns\n",
    "# print(dfs_out.columns)\n",
    "# # output shape\n",
    "# print(dfs_out.shape)"
   ]
  }
 ],
 "metadata": {
  "kernelspec": {
   "display_name": "Python 3",
   "language": "python",
   "name": "python3"
  },
  "language_info": {
   "codemirror_mode": {
    "name": "ipython",
    "version": 3
   },
   "file_extension": ".py",
   "mimetype": "text/x-python",
   "name": "python",
   "nbconvert_exporter": "python",
   "pygments_lexer": "ipython3",
   "version": "3.7.1"
  }
 },
 "nbformat": 4,
 "nbformat_minor": 2
}
