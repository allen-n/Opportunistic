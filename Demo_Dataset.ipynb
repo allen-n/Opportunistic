{
 "cells": [
  {
   "cell_type": "markdown",
   "metadata": {},
   "source": [
    "# Import modules\n",
    "CDC data set description link [here](https://wwwn.cdc.gov/nchs/nhanes/search/datapage.aspx?Component=Questionnaire&CycleBeginYear=2015)"
   ]
  },
  {
   "cell_type": "code",
   "execution_count": 1,
   "metadata": {},
   "outputs": [],
   "source": [
    "import pdb\n",
    "import glob\n",
    "\n",
    "import numpy as np\n",
    "import pandas as pd\n",
    "import matplotlib.pyplot as plt\n",
    "from sklearn.ensemble import RandomForestClassifier\n",
    "from sklearn.ensemble import ExtraTreesClassifier\n",
    "from sklearn.svm import SVC\n",
    "from sklearn.linear_model import LogisticRegression\n",
    "from sklearn.feature_selection import VarianceThreshold, SelectFromModel, SelectKBest, mutual_info_classif, mutual_info_regression\n",
    "from sklearn.metrics import classification_report\n",
    "from sklearn.decomposition import PCA\n",
    "\n",
    "import nhanes as nhanes\n",
    "\n",
    "%matplotlib notebook"
   ]
  },
  {
   "cell_type": "markdown",
   "metadata": {},
   "source": [
    "## Settings"
   ]
  },
  {
   "cell_type": "code",
   "execution_count": 2,
   "metadata": {},
   "outputs": [],
   "source": [
    "DATA_PATH = 'C:/Users/allen/Documents/Git-Repos/Opportunistic/CDC/NHANES/'\n",
    "DATASET = 'cancer'"
   ]
  },
  {
   "cell_type": "markdown",
   "metadata": {},
   "source": [
    "### Note: \n",
    "The code below loads each dataset: dataset_features, dataset_targets\n",
    "\n",
    "Here, all datasets are defined explicitly (see nhanes.py).\n",
    "*Caution* Very long computation, proceed with care"
   ]
  },
  {
   "cell_type": "code",
   "execution_count": 3,
   "metadata": {
    "scrolled": true
   },
   "outputs": [
    {
     "name": "stdout",
     "output_type": "stream",
     "text": [
      "Processing: Dietary\\DRXTOT_B.XPT                                                                                                                                                                                                                                                                                                                                                                                                                                                                                                                                                                                                                                                                                                                                                                                                                                                                                                                                                                                                                                                                                                                                                                                                                                                                                                                                                                                                                                                                                                                                                                                                                                                                                                                                                                                                                                                                                                                                                                                                                                                                                                                                                                                                                                                                                                                                                                                                                                                                                                                                                                                                                                                                                                                                                                                                                                                                                                                                                                                                                                                                                                                                                                                                                                                                                                                                                                                                                                                                                                                                                                                                                                                                                                                                                                                                                                                                                                                                                                                                                                                                                                                                                                                                                                                                                                                                                                                                                                                                                                                                                                                                                                                                                                                                                                                                                                                                                                                                                                                                                                                                                                                                                                                                                                                                                                                                                                                                                                                                                                                                                                                                                                                                                                                                                                                                                                                                                                                                                                                                                                                                                                                                                                                                                                                                                                                                                                                                                                                                                                                                                                                                                                                                                                                                                                                                                                                                                                                                                                                                                                                                                                                                                                                                                                                                                                                                                                                                                                                                                                                                                                                                                                                                                                                                                                                                                                                                                                                                                                                                                                                                                                                                                                                                                                                                                                                                                                                                                                                                                                    "
     ]
    },
    {
     "name": "stdout",
     "output_type": "stream",
     "text": [
      "Processing: Laboratory\\TRIGLY_H.XPT                                                                                                                                                                                                                                                                                                                                                                                                                                                                                                                                                                                                                                                                                                                                                                                                                                                                                                                                                                                                                                                                                                                                                                                                                                                                                                                                                                                                                                                                                                                                                                                                                                                                                                                                                                                                                                                                                                                                                                                                                                                                                                                                                                                                                                                                                                                                                                                                                                                                                                                                                                                                                                                                                                                                                                                                                                                                                                                                                                                                                                                                                                                                                                                                                                                                                                                                                                                                                                                                                                                                                                                                                                                                                                                                                                                                                                                                                                                                                                                                                                                                                                                                                                                                                                                                                                                                                                                                                                                                                                                                                                                                                                                                                                                                                                                                                                                                                                                                                                                                                                                                                                                                                                                                                                                                                                                                                                                                                                                                                                                                                                                                                                                                                                                                                                                                                                                                                                                                                                                                                                                                                                                                                                                                                                                                                                                                                                                                                                                                                                                                                                                                                                                                                                                                                                                                                                                                                                                                                                                                                                                                                                                                                                                                                                                                                                                                                                                                                                                                                                                                                                                                                                                                                                                                                                                                                                                                                                                                                                                                                                                                                                                                                                                                                                                                                                                                                                                                                                                                                                                                                                             "
     ]
    },
    {
     "name": "stdout",
     "output_type": "stream",
     "text": [
      "Processing: Questionnaire\\WHQ_H.XPT                                                                                                                                                                                                                                                                                                                                                                                                                                                                                                                                                                                                                                                                                                                                                                                                                                                                                                                                                                                                                                                                                                                                                                                                                                                                                                                                                                                                                                                                                                                                                                                                                                                                                                                                                                                                                                                                                                                                                                                                                                                                                                                                                                                                                                                                                                                                                                                                                                                                                                                                                                                                                                                                                                                                                                                                                                                                                                                                                                                                                                                                                "
     ]
    }
   ],
   "source": [
    "ds = nhanes.Dataset(DATA_PATH)\n",
    "ds.load_cancer()\n",
    "n_fe = ds.features.shape[1]\n",
    "n_classes = 2"
   ]
  },
  {
   "cell_type": "markdown",
   "metadata": {},
   "source": [
    "Extract the features and targets."
   ]
  },
  {
   "cell_type": "code",
   "execution_count": 4,
   "metadata": {},
   "outputs": [
    {
     "name": "stdout",
     "output_type": "stream",
     "text": [
      "(98908, 1)\n"
     ]
    }
   ],
   "source": [
    "features = ds.features.values\n",
    "targets = ds.targets.values\n",
    "\n",
    "indx = np.argwhere(targets != 3)\n",
    "dataset_features = features[indx.flatten()]\n",
    "dataset_targets = targets[indx.flatten()]\n",
    "\n",
    "dataset_features = pd.DataFrame(dataset_features, columns=ds.features.columns)\n",
    "dataset_targets = pd.DataFrame(dataset_targets, columns=ds.targets.columns, dtype='float64')\n",
    "print(dataset_targets.shape)\n",
    "# Pre-fix\n",
    "# dataset_features = ds.features\n",
    "# dataset_targets = ds.targets"
   ]
  },
  {
   "cell_type": "markdown",
   "metadata": {},
   "source": [
    "## Preprocessing of Data\n",
    "### Drop features with too-low variance"
   ]
  },
  {
   "cell_type": "code",
   "execution_count": 5,
   "metadata": {},
   "outputs": [],
   "source": [
    "dataset_features_sel = dataset_features.copy()\n",
    "\n",
    "# var_thresh = .001\n",
    "# dropped_keys = []\n",
    "# for key, value in dataset_features_sel.iteritems():\n",
    "#     if(value.var() < var_thresh):\n",
    "#         dataset_features_sel.drop(key, axis=1, inplace=True)\n",
    "#         dropped_keys.append(key)\n",
    "\n",
    "# print(\"Dropped %i keys, they were:\\n %s\" %(len(dropped_keys), dropped_keys))"
   ]
  },
  {
   "cell_type": "markdown",
   "metadata": {},
   "source": [
    "### Calculate feature importance"
   ]
  },
  {
   "cell_type": "code",
   "execution_count": null,
   "metadata": {},
   "outputs": [],
   "source": [
    "importances = []\n",
    "num_trees = 2\n",
    "for i in range(num_trees):\n",
    "    print('0% [',i*'.',(num_trees-i)*'-','] 100%', end='\\r')\n",
    "    clf = ExtraTreesClassifier(n_estimators=50)\n",
    "    clf = clf.fit(dataset_features_sel.values, dataset_targets.values.ravel())\n",
    "    importances.append(clf.feature_importances_)\n",
    "\n",
    "# print(importances)"
   ]
  },
  {
   "cell_type": "markdown",
   "metadata": {},
   "source": [
    "#### Drop Threshhold helper function"
   ]
  },
  {
   "cell_type": "code",
   "execution_count": 7,
   "metadata": {},
   "outputs": [],
   "source": [
    "def drop_threshold(threshold, df_data, df_threshold):\n",
    "    mi = df_threshold # mutual information dataframe\n",
    "    df = df_data # data containing dataframe\n",
    "    to_keep = []\n",
    "    # mi = mi.sort_values(by =0, axis=1) #sorts the values ascending\n",
    "    # print(mi)\n",
    "    var_counter = 0\n",
    "    for col in mi:\n",
    "        var_counter += mi[col].iloc[0]\n",
    "        to_keep.append(col)\n",
    "        if(var_counter > threshold):\n",
    "            break\n",
    "    if(len(to_keep) > 0):\n",
    "        return pd.DataFrame(df[to_keep].copy(), dtype='float64')\n",
    "    else:\n",
    "        raise NotImplementedError\n"
   ]
  },
  {
   "cell_type": "markdown",
   "metadata": {},
   "source": [
    "### Drop low importance features"
   ]
  },
  {
   "cell_type": "code",
   "execution_count": 8,
   "metadata": {},
   "outputs": [
    {
     "name": "stdout",
     "output_type": "stream",
     "text": [
      "(98908, 65)\n"
     ]
    }
   ],
   "source": [
    "importances_mean = np.array(importances)\n",
    "importances_mean = np.mean(importances_mean, axis=0)\n",
    "importances_mean = importances_mean.reshape((1, len(importances_mean)))\n",
    "importances_mean = pd.DataFrame(importances_mean, columns=ds.features.columns, dtype='float64')\n",
    "importances_mean = importances_mean.sort_values(by=0, axis=1, ascending=False) #sorts the values ascending\n",
    "\n",
    "df_importances = drop_threshold(0.90, dataset_features_sel ,importances_mean)\n",
    "print(df_importances.shape)"
   ]
  },
  {
   "cell_type": "markdown",
   "metadata": {},
   "source": [
    "### Seperate one-hot encoded, discrete, and continuous features"
   ]
  },
  {
   "cell_type": "code",
   "execution_count": 9,
   "metadata": {},
   "outputs": [
    {
     "name": "stdout",
     "output_type": "stream",
     "text": [
      "(98908, 65)\n",
      "(98908, 44)\n",
      "(98908, 21)\n"
     ]
    }
   ],
   "source": [
    "# onehot encoded\n",
    "dataset_features_onehot = df_importances.filter(regex=(\".*#.*\"))\n",
    "# Continuous \n",
    "dataset_features_cont = df_importances.drop(columns=df_importances.filter(regex=(\".*#.*\")))\n",
    "\n",
    "# dataset_features_disc = []\n",
    "# for key, value in dataset_features_cont.iteritems():\n",
    "#     # discrete were normalized so they should have a mean of .5, and we expect 4 of them\n",
    "#     if(value.mean() >= .5 and (abs(value.std()) >= .75)):\n",
    "#         dataset_features_disc.append(dataset_features_cont[key])\n",
    "#         dataset_features_cont.drop(key, axis=1, inplace=True)\n",
    "# # discrete\n",
    "# dataset_features_disc = pd.concat(dataset_features_disc, axis=1)\n",
    "print(df_importances.shape)\n",
    "print(dataset_features_cont.shape)\n",
    "print(dataset_features_onehot.shape)\n",
    "# print(dataset_features_disc.columns)"
   ]
  },
  {
   "cell_type": "markdown",
   "metadata": {},
   "source": [
    "### Calculate PCA to drop features"
   ]
  },
  {
   "cell_type": "code",
   "execution_count": 10,
   "metadata": {
    "scrolled": true
   },
   "outputs": [
    {
     "data": {
      "image/png": "[encoded data removed]",
      "text/plain": [
       "<Figure size 432x288 with 2 Axes>"
      ]
     },
     "metadata": {
      "needs_background": "light"
     },
     "output_type": "display_data"
    }
   ],
   "source": [
    "# dfs = [dataset_features_cont.copy(), dataset_features_disc.copy(), dataset_features_onehot.copy()]\n",
    "dfs_out = [dataset_features_cont.copy(), dataset_features_onehot.copy()]\n",
    "titles = ['Continuous Data', 'Categorical Data']\n",
    "pca_dfs = []\n",
    "gfs = 15 # Number of features to graph\n",
    "gfs -= 1\n",
    "i = 0\n",
    "for df in dfs_out:    \n",
    "#     print(df.shape)\n",
    "    pca = PCA() # no args, so keep all columns, n_components=2\n",
    "    pca.fit(df)\n",
    "    var_ratio = pca.explained_variance_ratio_\n",
    "    var_ratio = var_ratio.reshape((1, len(var_ratio)))\n",
    "    pca_dfs.append(pd.DataFrame(data=var_ratio, columns=df.columns))\n",
    "    # Visualize PCA:\n",
    "    idx = [i for i in range(len(df.columns))]\n",
    "    cols = [i for i in df.columns]\n",
    "    plt.subplot(len(dfs_out),1,i+1)\n",
    "    plt.subplots_adjust(hspace = 1, top=1, bottom=.3)\n",
    "    plt.bar(idx[0:gfs], pca.explained_variance_ratio_[0:gfs])\n",
    "    plt.xticks(idx[0:gfs], df.columns[0:gfs], rotation='vertical')\n",
    "    plt.xlabel('Features')\n",
    "    plt.ylabel('Variance')\n",
    "#     plt.title(titles[i])\n",
    "    i+=1\n",
    "plt.show()\n",
    "\n",
    "# print(pca_dfs.shape)\n"
   ]
  },
  {
   "cell_type": "markdown",
   "metadata": {},
   "source": [
    "### Remove columns that account for too little of the variance"
   ]
  },
  {
   "cell_type": "code",
   "execution_count": 11,
   "metadata": {
    "scrolled": true
   },
   "outputs": [
    {
     "name": "stdout",
     "output_type": "stream",
     "text": [
      "(98908, 33)\n",
      "(98908, 13)\n",
      "(98908, 46)\n"
     ]
    }
   ],
   "source": [
    "pca_dfs_out = []\n",
    "\n",
    "for i in range(len(dfs_out)):\n",
    "    pca_dfs_out.append(drop_threshold(0.95, dfs_out[i] ,pca_dfs[i]))\n",
    "\n",
    "for df in pca_dfs_out:\n",
    "    print(df.shape)\n",
    "\n",
    "df_final = pd.concat(pca_dfs_out, axis=1)\n",
    "print(df_final.shape)"
   ]
  },
  {
   "cell_type": "markdown",
   "metadata": {},
   "source": [
    "## Train/Test Separation"
   ]
  },
  {
   "cell_type": "code",
   "execution_count": 13,
   "metadata": {},
   "outputs": [
    {
     "name": "stdout",
     "output_type": "stream",
     "text": [
      "dataset_features Shape: (98908, 46), dataset_targets Shape: (98908,)\n"
     ]
    }
   ],
   "source": [
    "perm = np.random.permutation(dataset_targets.shape[0])\n",
    "dataset_targets_vals = np.ravel(dataset_targets.values) # unroll the column to the correct vector shape\n",
    "\n",
    "dataset_features = df_final.values[perm]\n",
    "dataset_targets = dataset_targets_vals[perm]\n",
    "\n",
    "print(\"dataset_features Shape: %s, dataset_targets Shape: %s\" % (dataset_features.shape, dataset_targets.shape))\n",
    "\n",
    "def get_batch(n_size, phase):\n",
    "    # select indices\n",
    "    n_samples = dataset_features.shape[0]\n",
    "    n_classes = int(dataset_targets.max() + 1)\n",
    "    if phase == 'test':\n",
    "        inds_sel = np.arange(0, int(n_samples*0.15), 1)\n",
    "    elif phase == 'validation':\n",
    "        n_samples = dataset_features.shape[0]\n",
    "        inds_sel = np.arange(int(n_samples*0.15), int(n_samples*0.30), 1)\n",
    "    elif phase == 'train':\n",
    "        n_samples = dataset_features.shape[0]\n",
    "        inds_sel = np.arange(int(n_samples*0.30), n_samples, 1)\n",
    "    else:\n",
    "        raise NotImplementedError\n",
    "    inds_sel = np.random.permutation(inds_sel)\n",
    "    batch_inds = []\n",
    "    for cl in range(n_classes):\n",
    "        inds_cl = inds_sel[dataset_targets[inds_sel] == cl]\n",
    "        batch_inds.extend(inds_cl[:n_size//n_classes])\n",
    "    batch_inds = np.random.permutation(batch_inds)\n",
    "    \n",
    "    return dataset_features[batch_inds], dataset_targets[batch_inds]"
   ]
  },
  {
   "cell_type": "markdown",
   "metadata": {},
   "source": [
    "## Classification"
   ]
  },
  {
   "cell_type": "code",
   "execution_count": 14,
   "metadata": {},
   "outputs": [
    {
     "name": "stdout",
     "output_type": "stream",
     "text": [
      "accu_tst_RFC 0.8214000000000001, accu_tst_SVC 0.8132, accu_tst_LR 0.7914666666666668\n"
     ]
    }
   ],
   "source": [
    "trials = 30\n",
    "accu_tst_RFC = []\n",
    "accu_tst_SVC = []\n",
    "accu_tst_LR = []\n",
    "\n",
    "for i in range(trials):\n",
    "    print('0% [',i*'.',(trials-i)*'-','] 100%', end='\\r')\n",
    "    features_trn, targets_trn = get_batch(n_size=5000, phase='train')\n",
    "    features_tst, targets_tst = get_batch(n_size=1000, phase='test')\n",
    "\n",
    "    clf = RandomForestClassifier(n_estimators=100)\n",
    "    clf.fit(features_trn, targets_trn)\n",
    "    preds_tst = clf.predict(features_tst)\n",
    "    accu = np.mean(preds_tst==targets_tst)\n",
    "    # print('accu_tst_RFC', accu)\n",
    "    accu_tst_RFC.append(accu)\n",
    "\n",
    "    clf = SVC(gamma='auto')\n",
    "    clf.fit(features_trn, targets_trn)\n",
    "    preds_tst = clf.predict(features_tst)\n",
    "    accu = np.mean(preds_tst==targets_tst)\n",
    "    # print('accu_tst_SVC', accu)\n",
    "    accu_tst_SVC.append(accu)\n",
    "\n",
    "    clf = LogisticRegression(solver='lbfgs', max_iter=200, multi_class='auto')\n",
    "    clf.fit(features_trn, targets_trn)\n",
    "    preds_tst = clf.predict(features_tst)\n",
    "    accu = np.mean(preds_tst==targets_tst)\n",
    "    # print('accu_tst_LR', accu)\n",
    "    accu_tst_LR.append(accu)\n",
    "    \n",
    "accu_tst_RFC = np.array(accu_tst_RFC)\n",
    "accu_tst_SVC = np.array(accu_tst_SVC)\n",
    "accu_tst_LR = np.array(accu_tst_LR)\n",
    "\n",
    "print('accu_tst_RFC %s, accu_tst_SVC %s, accu_tst_LR %s'\n",
    "      % (np.mean(accu_tst_RFC), np.mean(accu_tst_SVC), np.mean(accu_tst_LR)))"
   ]
  },
  {
   "cell_type": "code",
   "execution_count": 15,
   "metadata": {
    "scrolled": true
   },
   "outputs": [
    {
     "name": "stdout",
     "output_type": "stream",
     "text": [
      "              precision    recall  f1-score   support\n",
      "\n",
      "         0.0       0.76      0.80      0.78       500\n",
      "         1.0       0.79      0.75      0.77       500\n",
      "\n",
      "   micro avg       0.78      0.78      0.78      1000\n",
      "   macro avg       0.78      0.78      0.78      1000\n",
      "weighted avg       0.78      0.78      0.78      1000\n",
      "\n"
     ]
    }
   ],
   "source": [
    "print(classification_report(targets_tst, preds_tst))"
   ]
  },
  {
   "cell_type": "markdown",
   "metadata": {},
   "source": [
    "### Accuracies from baseline: \n",
    "#### Cancer (ds.load_cancer()):\n",
    "* accu_tst_RFC 0.758\n",
    "* accu_tst_SVC 0.759\n",
    "* accu_tst_LR 0.768"
   ]
  },
  {
   "cell_type": "markdown",
   "metadata": {},
   "source": [
    "### Calculate mutual information\n",
    "*Caution* Very long computation, proceed with care\n",
    "Note: disused because of enmormous memory requirements"
   ]
  },
  {
   "cell_type": "code",
   "execution_count": null,
   "metadata": {},
   "outputs": [],
   "source": [
    "# dataset_features_sel_vals = dataset_features_sel.values\n",
    "# dataset_targets_vals = np.ravel(dataset_targets.values) # unroll the column to the correct vector shape\n",
    "# # dfs = [dataset_features_cont.copy(), dataset_features_disc.copy(), dataset_features_onehot.copy()]\n",
    "# # retrieve values from dfs_out for subsequent steps if this comes after PCA\n",
    "# # dataset_features_cont = dfs_out[0]\n",
    "# # dataset_features_disc = dfs_out[1]\n",
    "# # dataset_features_onehot = dfs_out[2]\n",
    "\n",
    "# print('0% [---] 100%', end='\\r')\n",
    "# mutual_info_cont = mutual_info_regression(dataset_features_cont.values, dataset_targets_vals)\n",
    "# print('0% [+--] 100%', end='\\r')\n",
    "# # mutual_info_disc = mutual_info_regression(dataset_features_disc.values, dataset_targets_vals)\n",
    "# # print('0% [++-] 100%', end='\\r')\n",
    "# mutual_info_onehot = mutual_info_classif(dataset_features_onehot.values, dataset_targets_vals)\n",
    "# print('0% [+++] 100%', end='\\r')"
   ]
  },
  {
   "cell_type": "markdown",
   "metadata": {},
   "source": [
    "### Convert mutual info into dataframes and inspect"
   ]
  },
  {
   "cell_type": "code",
   "execution_count": null,
   "metadata": {},
   "outputs": [],
   "source": [
    "# if(mutual_info_cont.shape[0] != 1): # we only need to run this portion of the block once\n",
    "#     mutual_info_cont = mutual_info_cont.reshape((1, len(mutual_info_cont)))\n",
    "#     mutual_info_disc = mutual_info_disc.reshape((1, len(mutual_info_disc))) \n",
    "#     mutual_info_onehot = mutual_info_onehot.reshape((1, len(mutual_info_onehot))) \n",
    "\n",
    "\n",
    "# mutual_info_cont_df = pd.DataFrame(data=mutual_info_cont, columns=dataset_features_cont.columns)\n",
    "# mutual_info_disc_df = pd.DataFrame(data=mutual_info_disc, columns=dataset_features_disc.columns)\n",
    "# mutual_info_onehot_df = pd.DataFrame(data=mutual_info_onehot, columns=dataset_features_onehot.columns)"
   ]
  },
  {
   "cell_type": "markdown",
   "metadata": {},
   "source": [
    "### Dropping features with low mutual information\n",
    "    __Conditioned on target variable__"
   ]
  },
  {
   "cell_type": "code",
   "execution_count": null,
   "metadata": {},
   "outputs": [],
   "source": [
    "# mi_dfs = [mutual_info_cont_df, mutual_info_disc_df, mutual_info_onehot_df]\n",
    "# dfs = [dataset_features_cont, dataset_features_disc, dataset_features_onehot]\n",
    "# dfs_out = []\n",
    "\n",
    "# for i in range(len(dfs)):\n",
    "#     mi = mi_dfs[i] # mutual information dataframe\n",
    "#     df = dfs[i] # data containing dataframe\n",
    "#     to_drop = []\n",
    "#     mean = 0.25*mi.mean(axis=1)\n",
    "    \n",
    "#     # mi = mi.sort_values(by =0, axis=1) #sorts the values ascending\n",
    "#     # print(mi)\n",
    "#     for col in mi:\n",
    "#         if(mi[col].iloc[0] < mean).all():\n",
    "#             to_drop.append(col)\n",
    "#     if(len(to_drop) > 0):\n",
    "#         dfs_out.append(pd.DataFrame(df.drop(columns=to_drop)))\n",
    "    \n",
    "# dfs_out = pd.concat(dfs_out, axis=1)\n",
    "# # Retained columns\n",
    "# print(dfs_out.columns)\n",
    "# # output shape\n",
    "# print(dfs_out.shape)"
   ]
  }
 ],
 "metadata": {
  "kernelspec": {
   "display_name": "Python 3",
   "language": "python",
   "name": "python3"
  },
  "language_info": {
   "codemirror_mode": {
    "name": "ipython",
    "version": 3
   },
   "file_extension": ".py",
   "mimetype": "text/x-python",
   "name": "python",
   "nbconvert_exporter": "python",
   "pygments_lexer": "ipython3",
   "version": "3.7.1"
  }
 },
 "nbformat": 4,
 "nbformat_minor": 2
}
